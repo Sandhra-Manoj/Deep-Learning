{
 "cells": [
  {
   "cell_type": "code",
   "execution_count": 2,
   "id": "bb2e051e",
   "metadata": {},
   "outputs": [],
   "source": [
    "import tensorflow as tf\n",
    "from tensorflow import keras\n",
    "from sklearn.model_selection import train_test_split\n",
    "from sklearn.preprocessing import StandardScaler\n",
    "from sklearn.datasets import fetch_california_housing"
   ]
  },
  {
   "cell_type": "code",
   "execution_count": 3,
   "id": "0df4a29b",
   "metadata": {},
   "outputs": [],
   "source": [
    "housing=fetch_california_housing()\n",
    "\n",
    "x=housing.data\n",
    "y=housing.target\n",
    "x_train,x_val,y_train,y_val=train_test_split(x,y,test_size=0.2,random_state=42)\n",
    "\n",
    "scaler=StandardScaler()\n",
    "x_train_scaled=scaler.fit_transform(x_train)\n",
    "x_val_scaled=scaler.transform(x_val)"
   ]
  },
  {
   "cell_type": "code",
   "execution_count": 5,
   "id": "1865f8e5",
   "metadata": {},
   "outputs": [],
   "source": [
    "# regression\n",
    "\n",
    "model=keras.Sequential([\n",
    "    keras.layers.Input(shape=(x_train.shape[1],)), # input layer\n",
    "    keras.layers.Dense(64,activation='relu'), # hidden layer with relu activation\n",
    "    keras.layers.Dense(32,activation='relu'), # Additional hidden layer\n",
    "    keras.layers.Dense(1) # output layer\n",
    "    \n",
    "])"
   ]
  },
  {
   "cell_type": "code",
   "execution_count": 7,
   "id": "3d400d53",
   "metadata": {},
   "outputs": [],
   "source": [
    "model.compile(loss='mean_squared_error',optimizer='adam')"
   ]
  },
  {
   "cell_type": "code",
   "execution_count": 9,
   "id": "b4fcdd3f",
   "metadata": {},
   "outputs": [],
   "source": [
    "history=model.fit(x_train_scaled,y_train,validation_data=(x_val_scaled,y_val), epochs=50,batch_size=32,verbose=0)"
   ]
  },
  {
   "cell_type": "code",
   "execution_count": 16,
   "id": "b7b2232d",
   "metadata": {},
   "outputs": [
    {
     "name": "stdout",
     "output_type": "stream",
     "text": [
      "129/129 [==============================] - 0s 3ms/step - loss: 0.2713\n",
      "129/129 [==============================] - 0s 3ms/step\n"
     ]
    }
   ],
   "source": [
    "val_loss=model.evaluate(x_val_scaled,y_val)\n",
    "predictions=model.predict(x_val_scaled)"
   ]
  },
  {
   "cell_type": "code",
   "execution_count": 17,
   "id": "d0113fa1",
   "metadata": {},
   "outputs": [
    {
     "name": "stdout",
     "output_type": "stream",
     "text": [
      "mean squared error: 0.27134412911940153\n",
      "Root mean error:0.5209070254079912\n",
      "mean_absolute_error: 0.35834715796936617\n",
      "R square:0.7929317231299381\n"
     ]
    }
   ],
   "source": [
    "import numpy as np\n",
    "from sklearn.metrics import mean_squared_error,mean_absolute_error,r2_score\n",
    "\n",
    "mse=mean_squared_error(y_val,predictions)\n",
    "print(f'mean squared error: {mse}')\n",
    "\n",
    "rmse=np.sqrt(mse)\n",
    "print(f'Root mean error:{rmse}')\n",
    "\n",
    "mae=mean_absolute_error(y_val,predictions)\n",
    "print(f\"mean_absolute_error: {mae}\")\n",
    "\n",
    "r2=r2_score(y_val,predictions)\n",
    "print(f\"R square:{r2}\")"
   ]
  },
  {
   "cell_type": "code",
   "execution_count": null,
   "id": "c0a6725f",
   "metadata": {},
   "outputs": [],
   "source": []
  }
 ],
 "metadata": {
  "kernelspec": {
   "display_name": "Python 3 (ipykernel)",
   "language": "python",
   "name": "python3"
  },
  "language_info": {
   "codemirror_mode": {
    "name": "ipython",
    "version": 3
   },
   "file_extension": ".py",
   "mimetype": "text/x-python",
   "name": "python",
   "nbconvert_exporter": "python",
   "pygments_lexer": "ipython3",
   "version": "3.11.4"
  }
 },
 "nbformat": 4,
 "nbformat_minor": 5
}
