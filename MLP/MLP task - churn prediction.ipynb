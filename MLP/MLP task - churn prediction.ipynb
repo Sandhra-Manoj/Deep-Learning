{
 "cells": [
  {
   "cell_type": "code",
   "execution_count": 1,
   "id": "7aa45736",
   "metadata": {},
   "outputs": [
    {
     "name": "stdout",
     "output_type": "stream",
     "text": [
      "WARNING:tensorflow:From C:\\Users\\Dell\\anaconda3\\Lib\\site-packages\\keras\\src\\losses.py:2976: The name tf.losses.sparse_softmax_cross_entropy is deprecated. Please use tf.compat.v1.losses.sparse_softmax_cross_entropy instead.\n",
      "\n"
     ]
    }
   ],
   "source": [
    "import tensorflow as tf\n",
    "from tensorflow import keras\n",
    "import matplotlib.pyplot as plt\n",
    "import numpy as np\n",
    "import pandas as pd"
   ]
  },
  {
   "cell_type": "code",
   "execution_count": 2,
   "id": "f035f749",
   "metadata": {},
   "outputs": [
    {
     "data": {
      "text/html": [
       "<div>\n",
       "<style scoped>\n",
       "    .dataframe tbody tr th:only-of-type {\n",
       "        vertical-align: middle;\n",
       "    }\n",
       "\n",
       "    .dataframe tbody tr th {\n",
       "        vertical-align: top;\n",
       "    }\n",
       "\n",
       "    .dataframe thead th {\n",
       "        text-align: right;\n",
       "    }\n",
       "</style>\n",
       "<table border=\"1\" class=\"dataframe\">\n",
       "  <thead>\n",
       "    <tr style=\"text-align: right;\">\n",
       "      <th></th>\n",
       "      <th>Names</th>\n",
       "      <th>Age</th>\n",
       "      <th>Total_Purchase</th>\n",
       "      <th>Account_Manager</th>\n",
       "      <th>Years</th>\n",
       "      <th>Num_Sites</th>\n",
       "      <th>Onboard_date</th>\n",
       "      <th>Location</th>\n",
       "      <th>Company</th>\n",
       "      <th>Churn</th>\n",
       "    </tr>\n",
       "  </thead>\n",
       "  <tbody>\n",
       "    <tr>\n",
       "      <th>0</th>\n",
       "      <td>Cameron Williams</td>\n",
       "      <td>42.0</td>\n",
       "      <td>11066.80</td>\n",
       "      <td>0</td>\n",
       "      <td>7.22</td>\n",
       "      <td>8.0</td>\n",
       "      <td>2013-08-30 07:00:40</td>\n",
       "      <td>10265 Elizabeth Mission Barkerburgh, AK 89518</td>\n",
       "      <td>Harvey LLC</td>\n",
       "      <td>1</td>\n",
       "    </tr>\n",
       "    <tr>\n",
       "      <th>1</th>\n",
       "      <td>Kevin Mueller</td>\n",
       "      <td>41.0</td>\n",
       "      <td>11916.22</td>\n",
       "      <td>0</td>\n",
       "      <td>6.50</td>\n",
       "      <td>11.0</td>\n",
       "      <td>2013-08-13 00:38:46</td>\n",
       "      <td>6157 Frank Gardens Suite 019 Carloshaven, RI 1...</td>\n",
       "      <td>Wilson PLC</td>\n",
       "      <td>1</td>\n",
       "    </tr>\n",
       "    <tr>\n",
       "      <th>2</th>\n",
       "      <td>Eric Lozano</td>\n",
       "      <td>38.0</td>\n",
       "      <td>12884.75</td>\n",
       "      <td>0</td>\n",
       "      <td>6.67</td>\n",
       "      <td>12.0</td>\n",
       "      <td>2016-06-29 06:20:07</td>\n",
       "      <td>1331 Keith Court Alyssahaven, DE 90114</td>\n",
       "      <td>Miller, Johnson and Wallace</td>\n",
       "      <td>1</td>\n",
       "    </tr>\n",
       "    <tr>\n",
       "      <th>3</th>\n",
       "      <td>Phillip White</td>\n",
       "      <td>42.0</td>\n",
       "      <td>8010.76</td>\n",
       "      <td>0</td>\n",
       "      <td>6.71</td>\n",
       "      <td>10.0</td>\n",
       "      <td>2014-04-22 12:43:12</td>\n",
       "      <td>13120 Daniel Mount Angelabury, WY 30645-4695</td>\n",
       "      <td>Smith Inc</td>\n",
       "      <td>1</td>\n",
       "    </tr>\n",
       "    <tr>\n",
       "      <th>4</th>\n",
       "      <td>Cynthia Norton</td>\n",
       "      <td>37.0</td>\n",
       "      <td>9191.58</td>\n",
       "      <td>0</td>\n",
       "      <td>5.56</td>\n",
       "      <td>9.0</td>\n",
       "      <td>2016-01-19 15:31:15</td>\n",
       "      <td>765 Tricia Row Karenshire, MH 71730</td>\n",
       "      <td>Love-Jones</td>\n",
       "      <td>1</td>\n",
       "    </tr>\n",
       "  </tbody>\n",
       "</table>\n",
       "</div>"
      ],
      "text/plain": [
       "              Names   Age  Total_Purchase  Account_Manager  Years  Num_Sites  \\\n",
       "0  Cameron Williams  42.0        11066.80                0   7.22        8.0   \n",
       "1     Kevin Mueller  41.0        11916.22                0   6.50       11.0   \n",
       "2       Eric Lozano  38.0        12884.75                0   6.67       12.0   \n",
       "3     Phillip White  42.0         8010.76                0   6.71       10.0   \n",
       "4    Cynthia Norton  37.0         9191.58                0   5.56        9.0   \n",
       "\n",
       "          Onboard_date                                           Location  \\\n",
       "0  2013-08-30 07:00:40      10265 Elizabeth Mission Barkerburgh, AK 89518   \n",
       "1  2013-08-13 00:38:46  6157 Frank Gardens Suite 019 Carloshaven, RI 1...   \n",
       "2  2016-06-29 06:20:07             1331 Keith Court Alyssahaven, DE 90114   \n",
       "3  2014-04-22 12:43:12       13120 Daniel Mount Angelabury, WY 30645-4695   \n",
       "4  2016-01-19 15:31:15                765 Tricia Row Karenshire, MH 71730   \n",
       "\n",
       "                       Company  Churn  \n",
       "0                   Harvey LLC      1  \n",
       "1                   Wilson PLC      1  \n",
       "2  Miller, Johnson and Wallace      1  \n",
       "3                    Smith Inc      1  \n",
       "4                   Love-Jones      1  "
      ]
     },
     "execution_count": 2,
     "metadata": {},
     "output_type": "execute_result"
    }
   ],
   "source": [
    "data=pd.read_csv('Churn.csv')\n",
    "data.head()"
   ]
  },
  {
   "cell_type": "code",
   "execution_count": 3,
   "id": "361ddc41",
   "metadata": {},
   "outputs": [
    {
     "data": {
      "text/plain": [
       "(900, 10)"
      ]
     },
     "execution_count": 3,
     "metadata": {},
     "output_type": "execute_result"
    }
   ],
   "source": [
    "data.shape"
   ]
  },
  {
   "cell_type": "code",
   "execution_count": 4,
   "id": "bdf4c324",
   "metadata": {},
   "outputs": [
    {
     "data": {
      "text/plain": [
       "9000"
      ]
     },
     "execution_count": 4,
     "metadata": {},
     "output_type": "execute_result"
    }
   ],
   "source": [
    "data.size"
   ]
  },
  {
   "cell_type": "code",
   "execution_count": 5,
   "id": "a3d3f16d",
   "metadata": {},
   "outputs": [
    {
     "name": "stdout",
     "output_type": "stream",
     "text": [
      "<class 'pandas.core.frame.DataFrame'>\n",
      "RangeIndex: 900 entries, 0 to 899\n",
      "Data columns (total 10 columns):\n",
      " #   Column           Non-Null Count  Dtype  \n",
      "---  ------           --------------  -----  \n",
      " 0   Names            900 non-null    object \n",
      " 1   Age              900 non-null    float64\n",
      " 2   Total_Purchase   900 non-null    float64\n",
      " 3   Account_Manager  900 non-null    int64  \n",
      " 4   Years            900 non-null    float64\n",
      " 5   Num_Sites        900 non-null    float64\n",
      " 6   Onboard_date     900 non-null    object \n",
      " 7   Location         900 non-null    object \n",
      " 8   Company          900 non-null    object \n",
      " 9   Churn            900 non-null    int64  \n",
      "dtypes: float64(4), int64(2), object(4)\n",
      "memory usage: 70.4+ KB\n"
     ]
    }
   ],
   "source": [
    "data.info()"
   ]
  },
  {
   "cell_type": "code",
   "execution_count": 6,
   "id": "e42b9f35",
   "metadata": {},
   "outputs": [
    {
     "data": {
      "text/html": [
       "<div>\n",
       "<style scoped>\n",
       "    .dataframe tbody tr th:only-of-type {\n",
       "        vertical-align: middle;\n",
       "    }\n",
       "\n",
       "    .dataframe tbody tr th {\n",
       "        vertical-align: top;\n",
       "    }\n",
       "\n",
       "    .dataframe thead th {\n",
       "        text-align: right;\n",
       "    }\n",
       "</style>\n",
       "<table border=\"1\" class=\"dataframe\">\n",
       "  <thead>\n",
       "    <tr style=\"text-align: right;\">\n",
       "      <th></th>\n",
       "      <th>Age</th>\n",
       "      <th>Total_Purchase</th>\n",
       "      <th>Account_Manager</th>\n",
       "      <th>Years</th>\n",
       "      <th>Num_Sites</th>\n",
       "      <th>Churn</th>\n",
       "    </tr>\n",
       "  </thead>\n",
       "  <tbody>\n",
       "    <tr>\n",
       "      <th>count</th>\n",
       "      <td>900.000000</td>\n",
       "      <td>900.000000</td>\n",
       "      <td>900.000000</td>\n",
       "      <td>900.000000</td>\n",
       "      <td>900.000000</td>\n",
       "      <td>900.000000</td>\n",
       "    </tr>\n",
       "    <tr>\n",
       "      <th>mean</th>\n",
       "      <td>41.816667</td>\n",
       "      <td>10062.824033</td>\n",
       "      <td>0.481111</td>\n",
       "      <td>5.273156</td>\n",
       "      <td>8.587778</td>\n",
       "      <td>0.166667</td>\n",
       "    </tr>\n",
       "    <tr>\n",
       "      <th>std</th>\n",
       "      <td>6.127560</td>\n",
       "      <td>2408.644532</td>\n",
       "      <td>0.499921</td>\n",
       "      <td>1.274449</td>\n",
       "      <td>1.764836</td>\n",
       "      <td>0.372885</td>\n",
       "    </tr>\n",
       "    <tr>\n",
       "      <th>min</th>\n",
       "      <td>22.000000</td>\n",
       "      <td>100.000000</td>\n",
       "      <td>0.000000</td>\n",
       "      <td>1.000000</td>\n",
       "      <td>3.000000</td>\n",
       "      <td>0.000000</td>\n",
       "    </tr>\n",
       "    <tr>\n",
       "      <th>25%</th>\n",
       "      <td>38.000000</td>\n",
       "      <td>8497.122500</td>\n",
       "      <td>0.000000</td>\n",
       "      <td>4.450000</td>\n",
       "      <td>7.000000</td>\n",
       "      <td>0.000000</td>\n",
       "    </tr>\n",
       "    <tr>\n",
       "      <th>50%</th>\n",
       "      <td>42.000000</td>\n",
       "      <td>10045.870000</td>\n",
       "      <td>0.000000</td>\n",
       "      <td>5.215000</td>\n",
       "      <td>8.000000</td>\n",
       "      <td>0.000000</td>\n",
       "    </tr>\n",
       "    <tr>\n",
       "      <th>75%</th>\n",
       "      <td>46.000000</td>\n",
       "      <td>11760.105000</td>\n",
       "      <td>1.000000</td>\n",
       "      <td>6.110000</td>\n",
       "      <td>10.000000</td>\n",
       "      <td>0.000000</td>\n",
       "    </tr>\n",
       "    <tr>\n",
       "      <th>max</th>\n",
       "      <td>65.000000</td>\n",
       "      <td>18026.010000</td>\n",
       "      <td>1.000000</td>\n",
       "      <td>9.150000</td>\n",
       "      <td>14.000000</td>\n",
       "      <td>1.000000</td>\n",
       "    </tr>\n",
       "  </tbody>\n",
       "</table>\n",
       "</div>"
      ],
      "text/plain": [
       "              Age  Total_Purchase  Account_Manager       Years   Num_Sites  \\\n",
       "count  900.000000      900.000000       900.000000  900.000000  900.000000   \n",
       "mean    41.816667    10062.824033         0.481111    5.273156    8.587778   \n",
       "std      6.127560     2408.644532         0.499921    1.274449    1.764836   \n",
       "min     22.000000      100.000000         0.000000    1.000000    3.000000   \n",
       "25%     38.000000     8497.122500         0.000000    4.450000    7.000000   \n",
       "50%     42.000000    10045.870000         0.000000    5.215000    8.000000   \n",
       "75%     46.000000    11760.105000         1.000000    6.110000   10.000000   \n",
       "max     65.000000    18026.010000         1.000000    9.150000   14.000000   \n",
       "\n",
       "            Churn  \n",
       "count  900.000000  \n",
       "mean     0.166667  \n",
       "std      0.372885  \n",
       "min      0.000000  \n",
       "25%      0.000000  \n",
       "50%      0.000000  \n",
       "75%      0.000000  \n",
       "max      1.000000  "
      ]
     },
     "execution_count": 6,
     "metadata": {},
     "output_type": "execute_result"
    }
   ],
   "source": [
    "data.describe()"
   ]
  },
  {
   "cell_type": "code",
   "execution_count": 7,
   "id": "d3420793",
   "metadata": {},
   "outputs": [
    {
     "data": {
      "text/plain": [
       "Names              0\n",
       "Age                0\n",
       "Total_Purchase     0\n",
       "Account_Manager    0\n",
       "Years              0\n",
       "Num_Sites          0\n",
       "Onboard_date       0\n",
       "Location           0\n",
       "Company            0\n",
       "Churn              0\n",
       "dtype: int64"
      ]
     },
     "execution_count": 7,
     "metadata": {},
     "output_type": "execute_result"
    }
   ],
   "source": [
    "data.isnull().sum()"
   ]
  },
  {
   "cell_type": "code",
   "execution_count": 8,
   "id": "d71ae0a7",
   "metadata": {},
   "outputs": [
    {
     "data": {
      "text/plain": [
       "0"
      ]
     },
     "execution_count": 8,
     "metadata": {},
     "output_type": "execute_result"
    }
   ],
   "source": [
    "data.duplicated().sum()"
   ]
  },
  {
   "cell_type": "code",
   "execution_count": 9,
   "id": "38c7c01e",
   "metadata": {},
   "outputs": [
    {
     "data": {
      "text/plain": [
       "Index(['Names', 'Age', 'Total_Purchase', 'Account_Manager', 'Years',\n",
       "       'Num_Sites', 'Onboard_date', 'Location', 'Company', 'Churn'],\n",
       "      dtype='object')"
      ]
     },
     "execution_count": 9,
     "metadata": {},
     "output_type": "execute_result"
    }
   ],
   "source": [
    "data.columns"
   ]
  },
  {
   "cell_type": "code",
   "execution_count": 10,
   "id": "1c99ae36",
   "metadata": {},
   "outputs": [],
   "source": [
    "data = data.drop(columns=['Names', 'Onboard_date', 'Location', 'Company'])"
   ]
  },
  {
   "cell_type": "code",
   "execution_count": 11,
   "id": "372843b9",
   "metadata": {},
   "outputs": [
    {
     "data": {
      "text/html": [
       "<div>\n",
       "<style scoped>\n",
       "    .dataframe tbody tr th:only-of-type {\n",
       "        vertical-align: middle;\n",
       "    }\n",
       "\n",
       "    .dataframe tbody tr th {\n",
       "        vertical-align: top;\n",
       "    }\n",
       "\n",
       "    .dataframe thead th {\n",
       "        text-align: right;\n",
       "    }\n",
       "</style>\n",
       "<table border=\"1\" class=\"dataframe\">\n",
       "  <thead>\n",
       "    <tr style=\"text-align: right;\">\n",
       "      <th></th>\n",
       "      <th>Age</th>\n",
       "      <th>Total_Purchase</th>\n",
       "      <th>Account_Manager</th>\n",
       "      <th>Years</th>\n",
       "      <th>Num_Sites</th>\n",
       "      <th>Churn</th>\n",
       "    </tr>\n",
       "  </thead>\n",
       "  <tbody>\n",
       "    <tr>\n",
       "      <th>0</th>\n",
       "      <td>42.0</td>\n",
       "      <td>11066.80</td>\n",
       "      <td>0</td>\n",
       "      <td>7.22</td>\n",
       "      <td>8.0</td>\n",
       "      <td>1</td>\n",
       "    </tr>\n",
       "    <tr>\n",
       "      <th>1</th>\n",
       "      <td>41.0</td>\n",
       "      <td>11916.22</td>\n",
       "      <td>0</td>\n",
       "      <td>6.50</td>\n",
       "      <td>11.0</td>\n",
       "      <td>1</td>\n",
       "    </tr>\n",
       "    <tr>\n",
       "      <th>2</th>\n",
       "      <td>38.0</td>\n",
       "      <td>12884.75</td>\n",
       "      <td>0</td>\n",
       "      <td>6.67</td>\n",
       "      <td>12.0</td>\n",
       "      <td>1</td>\n",
       "    </tr>\n",
       "    <tr>\n",
       "      <th>3</th>\n",
       "      <td>42.0</td>\n",
       "      <td>8010.76</td>\n",
       "      <td>0</td>\n",
       "      <td>6.71</td>\n",
       "      <td>10.0</td>\n",
       "      <td>1</td>\n",
       "    </tr>\n",
       "    <tr>\n",
       "      <th>4</th>\n",
       "      <td>37.0</td>\n",
       "      <td>9191.58</td>\n",
       "      <td>0</td>\n",
       "      <td>5.56</td>\n",
       "      <td>9.0</td>\n",
       "      <td>1</td>\n",
       "    </tr>\n",
       "  </tbody>\n",
       "</table>\n",
       "</div>"
      ],
      "text/plain": [
       "    Age  Total_Purchase  Account_Manager  Years  Num_Sites  Churn\n",
       "0  42.0        11066.80                0   7.22        8.0      1\n",
       "1  41.0        11916.22                0   6.50       11.0      1\n",
       "2  38.0        12884.75                0   6.67       12.0      1\n",
       "3  42.0         8010.76                0   6.71       10.0      1\n",
       "4  37.0         9191.58                0   5.56        9.0      1"
      ]
     },
     "execution_count": 11,
     "metadata": {},
     "output_type": "execute_result"
    }
   ],
   "source": [
    "data.head()"
   ]
  },
  {
   "cell_type": "code",
   "execution_count": 12,
   "id": "2d124cce",
   "metadata": {},
   "outputs": [],
   "source": [
    "x=data.drop(columns=['Churn'])\n",
    "y=data['Churn']"
   ]
  },
  {
   "cell_type": "code",
   "execution_count": 13,
   "id": "246cd03a",
   "metadata": {},
   "outputs": [
    {
     "data": {
      "text/plain": [
       "array([[ 0.0299361 ,  0.41705373, -0.96290958,  1.52844634, -0.33323478],\n",
       "       [-0.13335172,  0.76990459, -0.96290958,  0.96318219,  1.36758544],\n",
       "       [-0.6232152 ,  1.172234  , -0.96290958,  1.09664734,  1.93452551],\n",
       "       ...,\n",
       "       [ 0.51979958,  0.82804427, -0.96290958,  0.14668954, -2.60099507],\n",
       "       [ 1.49952654, -1.47255646,  1.03851911,  0.15454043,  0.80064537],\n",
       "       [-0.45992738, -0.31039844,  1.03851911, -0.19874967,  0.80064537]])"
      ]
     },
     "execution_count": 13,
     "metadata": {},
     "output_type": "execute_result"
    }
   ],
   "source": [
    "from sklearn.preprocessing import StandardScaler,LabelEncoder\n",
    "scaler=StandardScaler()\n",
    "x=scaler.fit_transform(x)\n",
    "x"
   ]
  },
  {
   "cell_type": "code",
   "execution_count": 14,
   "id": "ce8bc62a",
   "metadata": {},
   "outputs": [],
   "source": [
    "from sklearn.model_selection import train_test_split\n",
    "x_train,x_test,y_train,y_test=train_test_split(x,y,test_size=0.2,random_state=42)"
   ]
  },
  {
   "cell_type": "code",
   "execution_count": 15,
   "id": "3f5ea571",
   "metadata": {},
   "outputs": [],
   "source": [
    "from sklearn.preprocessing import StandardScaler\n",
    "x_train, x_val, y_train, y_val = train_test_split(x_train, y_train, test_size=0.2, random_state=42)\n",
    "scaler=StandardScaler()\n",
    "x_train_scaled=scaler.fit_transform(x_train)\n",
    "x_val_scaled=scaler.transform(x_val)"
   ]
  },
  {
   "cell_type": "code",
   "execution_count": 16,
   "id": "0ff9e2b7",
   "metadata": {},
   "outputs": [
    {
     "name": "stdout",
     "output_type": "stream",
     "text": [
      "576\n",
      "144\n"
     ]
    }
   ],
   "source": [
    "print(len(x_train))\n",
    "print(len(x_val))"
   ]
  },
  {
   "cell_type": "code",
   "execution_count": 17,
   "id": "1865caf9",
   "metadata": {},
   "outputs": [
    {
     "name": "stdout",
     "output_type": "stream",
     "text": [
      "WARNING:tensorflow:From C:\\Users\\Dell\\anaconda3\\Lib\\site-packages\\keras\\src\\backend.py:1398: The name tf.executing_eagerly_outside_functions is deprecated. Please use tf.compat.v1.executing_eagerly_outside_functions instead.\n",
      "\n"
     ]
    }
   ],
   "source": [
    "model=keras.Sequential([\n",
    "    keras.layers.Input(shape=(x_train.shape[1],)),\n",
    "    keras.layers.Dense(128,activation='relu'),\n",
    "    keras.layers.Dense(64,activation='relu'),\n",
    "    keras.layers.Dense(32,activation='relu'),\n",
    "    keras.layers.Dense(1)   \n",
    "])"
   ]
  },
  {
   "cell_type": "code",
   "execution_count": 18,
   "id": "a7d195a2",
   "metadata": {},
   "outputs": [
    {
     "name": "stdout",
     "output_type": "stream",
     "text": [
      "Model: \"sequential\"\n",
      "_________________________________________________________________\n",
      " Layer (type)                Output Shape              Param #   \n",
      "=================================================================\n",
      " dense (Dense)               (None, 128)               768       \n",
      "                                                                 \n",
      " dense_1 (Dense)             (None, 64)                8256      \n",
      "                                                                 \n",
      " dense_2 (Dense)             (None, 32)                2080      \n",
      "                                                                 \n",
      " dense_3 (Dense)             (None, 1)                 33        \n",
      "                                                                 \n",
      "=================================================================\n",
      "Total params: 11137 (43.50 KB)\n",
      "Trainable params: 11137 (43.50 KB)\n",
      "Non-trainable params: 0 (0.00 Byte)\n",
      "_________________________________________________________________\n"
     ]
    }
   ],
   "source": [
    "model.summary()"
   ]
  },
  {
   "cell_type": "code",
   "execution_count": 19,
   "id": "1ef93e07",
   "metadata": {},
   "outputs": [
    {
     "name": "stdout",
     "output_type": "stream",
     "text": [
      "WARNING:tensorflow:From C:\\Users\\Dell\\anaconda3\\Lib\\site-packages\\keras\\src\\optimizers\\__init__.py:309: The name tf.train.Optimizer is deprecated. Please use tf.compat.v1.train.Optimizer instead.\n",
      "\n"
     ]
    }
   ],
   "source": [
    "model.compile(loss='binary_crossentropy',\n",
    "              optimizer='adam',\n",
    "              metrics=['accuracy'])"
   ]
  },
  {
   "cell_type": "code",
   "execution_count": 20,
   "id": "f6ba7829",
   "metadata": {},
   "outputs": [
    {
     "name": "stdout",
     "output_type": "stream",
     "text": [
      "Epoch 1/20\n",
      "WARNING:tensorflow:From C:\\Users\\Dell\\anaconda3\\Lib\\site-packages\\keras\\src\\utils\\tf_utils.py:492: The name tf.ragged.RaggedTensorValue is deprecated. Please use tf.compat.v1.ragged.RaggedTensorValue instead.\n",
      "\n",
      "WARNING:tensorflow:From C:\\Users\\Dell\\anaconda3\\Lib\\site-packages\\keras\\src\\engine\\base_layer_utils.py:384: The name tf.executing_eagerly_outside_functions is deprecated. Please use tf.compat.v1.executing_eagerly_outside_functions instead.\n",
      "\n",
      "18/18 - 3s - loss: 0.5728 - accuracy: 0.8559 - val_loss: 0.3731 - val_accuracy: 0.8472 - 3s/epoch - 184ms/step\n",
      "Epoch 2/20\n",
      "18/18 - 0s - loss: 0.3916 - accuracy: 0.8785 - val_loss: 0.4343 - val_accuracy: 0.8472 - 128ms/epoch - 7ms/step\n",
      "Epoch 3/20\n",
      "18/18 - 0s - loss: 0.4159 - accuracy: 0.8889 - val_loss: 0.3437 - val_accuracy: 0.8889 - 135ms/epoch - 8ms/step\n",
      "Epoch 4/20\n",
      "18/18 - 0s - loss: 0.4012 - accuracy: 0.8958 - val_loss: 0.5252 - val_accuracy: 0.8611 - 155ms/epoch - 9ms/step\n",
      "Epoch 5/20\n",
      "18/18 - 0s - loss: 0.3688 - accuracy: 0.9062 - val_loss: 0.4243 - val_accuracy: 0.8681 - 152ms/epoch - 8ms/step\n",
      "Epoch 6/20\n",
      "18/18 - 0s - loss: 0.3630 - accuracy: 0.9028 - val_loss: 0.4359 - val_accuracy: 0.8750 - 166ms/epoch - 9ms/step\n",
      "Epoch 7/20\n",
      "18/18 - 0s - loss: 0.3573 - accuracy: 0.9132 - val_loss: 0.4516 - val_accuracy: 0.8750 - 152ms/epoch - 8ms/step\n",
      "Epoch 8/20\n",
      "18/18 - 0s - loss: 0.3503 - accuracy: 0.9062 - val_loss: 0.4217 - val_accuracy: 0.8681 - 144ms/epoch - 8ms/step\n",
      "Epoch 9/20\n",
      "18/18 - 0s - loss: 0.3452 - accuracy: 0.9115 - val_loss: 0.6053 - val_accuracy: 0.8611 - 157ms/epoch - 9ms/step\n",
      "Epoch 10/20\n",
      "18/18 - 0s - loss: 0.3463 - accuracy: 0.9097 - val_loss: 0.4464 - val_accuracy: 0.8681 - 163ms/epoch - 9ms/step\n",
      "Epoch 11/20\n",
      "18/18 - 0s - loss: 0.3374 - accuracy: 0.9132 - val_loss: 0.4508 - val_accuracy: 0.8681 - 143ms/epoch - 8ms/step\n",
      "Epoch 12/20\n",
      "18/18 - 0s - loss: 0.3329 - accuracy: 0.9167 - val_loss: 0.4330 - val_accuracy: 0.8681 - 142ms/epoch - 8ms/step\n",
      "Epoch 13/20\n",
      "18/18 - 0s - loss: 0.3298 - accuracy: 0.9184 - val_loss: 0.6076 - val_accuracy: 0.8611 - 157ms/epoch - 9ms/step\n",
      "Epoch 14/20\n",
      "18/18 - 0s - loss: 0.3253 - accuracy: 0.9236 - val_loss: 0.5519 - val_accuracy: 0.8681 - 141ms/epoch - 8ms/step\n",
      "Epoch 15/20\n",
      "18/18 - 0s - loss: 0.3245 - accuracy: 0.9236 - val_loss: 0.4516 - val_accuracy: 0.8681 - 143ms/epoch - 8ms/step\n",
      "Epoch 16/20\n",
      "18/18 - 0s - loss: 0.3211 - accuracy: 0.9271 - val_loss: 0.6355 - val_accuracy: 0.8611 - 156ms/epoch - 9ms/step\n",
      "Epoch 17/20\n",
      "18/18 - 0s - loss: 0.3215 - accuracy: 0.9201 - val_loss: 0.4597 - val_accuracy: 0.8681 - 154ms/epoch - 9ms/step\n",
      "Epoch 18/20\n",
      "18/18 - 0s - loss: 0.3233 - accuracy: 0.9219 - val_loss: 0.6618 - val_accuracy: 0.8611 - 143ms/epoch - 8ms/step\n",
      "Epoch 19/20\n",
      "18/18 - 0s - loss: 0.3170 - accuracy: 0.9201 - val_loss: 0.6210 - val_accuracy: 0.8611 - 158ms/epoch - 9ms/step\n",
      "Epoch 20/20\n",
      "18/18 - 0s - loss: 0.3139 - accuracy: 0.9271 - val_loss: 0.6235 - val_accuracy: 0.8611 - 159ms/epoch - 9ms/step\n"
     ]
    }
   ],
   "source": [
    "history=model.fit(x_train_scaled,y_train,validation_data=(x_val_scaled,y_val),epochs=20,batch_size=32,verbose=2)"
   ]
  },
  {
   "cell_type": "code",
   "execution_count": 21,
   "id": "7163a098",
   "metadata": {},
   "outputs": [
    {
     "name": "stdout",
     "output_type": "stream",
     "text": [
      "5/5 [==============================] - 0s 3ms/step - loss: 0.6235 - accuracy: 0.8611\n",
      "5/5 [==============================] - 0s 5ms/step\n"
     ]
    }
   ],
   "source": [
    "loss=model.evaluate(x_val_scaled,y_val)\n",
    "predictions=model.predict(x_val_scaled)"
   ]
  },
  {
   "cell_type": "code",
   "execution_count": null,
   "id": "15bdc5fa",
   "metadata": {},
   "outputs": [],
   "source": [
    "model.save('minstmodel2.keras')"
   ]
  }
 ],
 "metadata": {
  "kernelspec": {
   "display_name": "Python 3 (ipykernel)",
   "language": "python",
   "name": "python3"
  },
  "language_info": {
   "codemirror_mode": {
    "name": "ipython",
    "version": 3
   },
   "file_extension": ".py",
   "mimetype": "text/x-python",
   "name": "python",
   "nbconvert_exporter": "python",
   "pygments_lexer": "ipython3",
   "version": "3.11.4"
  }
 },
 "nbformat": 4,
 "nbformat_minor": 5
}
